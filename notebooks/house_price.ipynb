{
 "cells": [
  {
   "cell_type": "code",
   "execution_count": 20,
   "id": "f7e0bb5f",
   "metadata": {},
   "outputs": [],
   "source": [
    "import sys\n",
    "from pathlib import Path\n",
    "\n",
    "import warnings\n",
    "warnings.filterwarnings('ignore')\n",
    "\n",
    "sys.path.insert(0, '../')\n",
    "\n",
    "model_dir = Path(\"../app/models\")\n",
    "training_data_dir = Path(\"../data/house-prices\")\n",
    "\n",
    "from app.train import train_model\n",
    "_ = train_model(str(training_data_dir/'train.csv'), model_dir)"
   ]
  },
  {
   "cell_type": "code",
   "execution_count": null,
   "id": "d048d527",
   "metadata": {},
   "outputs": [],
   "source": [
    "def create_sumission_file(data):\n",
    "    df = pd.DataFrame(data, columns = ['SalePrice'])\n",
    "    df.set_index(X_test.index, inplace=True)\n",
    "    df.index.name = 'Id'\n",
    "    df.to_csv(\"../sample_submission.csv\",)"
   ]
  }
 ],
 "metadata": {
  "kernelspec": {
   "display_name": "Python 3 (ipykernel)",
   "language": "python",
   "name": "python3"
  },
  "language_info": {
   "codemirror_mode": {
    "name": "ipython",
    "version": 3
   },
   "file_extension": ".py",
   "mimetype": "text/x-python",
   "name": "python",
   "nbconvert_exporter": "python",
   "pygments_lexer": "ipython3",
   "version": "3.9.4"
  }
 },
 "nbformat": 4,
 "nbformat_minor": 5
}
